{
  "nbformat": 4,
  "nbformat_minor": 0,
  "metadata": {
    "colab": {
      "name": "object2.ipynb",
      "provenance": [],
      "authorship_tag": "ABX9TyMz7PkruR/qH5VHl/PJcWbH",
      "include_colab_link": true
    },
    "kernelspec": {
      "name": "python3",
      "display_name": "Python 3"
    }
  },
  "cells": [
    {
      "cell_type": "markdown",
      "metadata": {
        "id": "view-in-github",
        "colab_type": "text"
      },
      "source": [
        "<a href=\"https://colab.research.google.com/github/keunsooyoon/test/blob/main/object2.ipynb\" target=\"_parent\"><img src=\"https://colab.research.google.com/assets/colab-badge.svg\" alt=\"Open In Colab\"/></a>"
      ]
    },
    {
      "cell_type": "code",
      "metadata": {
        "colab": {
          "base_uri": "https://localhost:8080/"
        },
        "id": "XdNAPBXHiqvj",
        "outputId": "22f02220-8896-47f4-e18c-55ce209d4c48"
      },
      "source": [
        "# 딕셔너리를 리턴하는 함수를 선언합니다.\r\n",
        "def create_student(name, korean, math, english, science):\r\n",
        "    return {\r\n",
        "        \"name\": name,\r\n",
        "        \"korean\": korean,\r\n",
        "        \"math\": math,\r\n",
        "        \"english\": english,\r\n",
        "        \"science\": science\r\n",
        "    }\r\n",
        "\r\n",
        "# 학생 리스트를 선언합니다.\r\n",
        "students = [\r\n",
        "    create_student(\"윤인성\", 87, 98, 88, 95),\r\n",
        "    create_student(\"연하진\", 92, 98, 96, 98),\r\n",
        "    create_student(\"구지연\", 76, 96, 94, 90),\r\n",
        "    create_student(\"나선주\", 98, 92, 96, 92),\r\n",
        "    create_student(\"윤아린\", 95, 98, 98, 98),\r\n",
        "    create_student(\"윤명월\", 64, 88, 92, 92)\r\n",
        "]\r\n",
        "\r\n",
        "# 학생을 한 명씩 반복합니다.\r\n",
        "print(\"이름\", \"총점\", \"평균\", sep=\"\\t\")\r\n",
        "for student in students:\r\n",
        "    # 점수의 총합과 평균을 구합니다.\r\n",
        "    score_sum = student[\"korean\"] + student[\"math\"] +\\\r\n",
        "        student[\"english\"] + student[\"science\"]\r\n",
        "    score_average = score_sum / 4\r\n",
        "    # 출력합니다.\r\n",
        "    print(student[\"name\"], score_sum, score_average, sep=\"\\t\")\r\n"
      ],
      "execution_count": 1,
      "outputs": [
        {
          "output_type": "stream",
          "text": [
            "이름\t총점\t평균\n",
            "윤인성\t368\t92.0\n",
            "연하진\t384\t96.0\n",
            "구지연\t356\t89.0\n",
            "나선주\t378\t94.5\n",
            "윤아린\t389\t97.25\n",
            "윤명월\t336\t84.0\n"
          ],
          "name": "stdout"
        }
      ]
    }
  ]
}